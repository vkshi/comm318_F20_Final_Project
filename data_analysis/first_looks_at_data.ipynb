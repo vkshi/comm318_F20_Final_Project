{
 "cells": [
  {
   "cell_type": "markdown",
   "metadata": {},
   "source": [
    "<h1>A Look Into The NYT College COVID-19 Cases Data</h1>"
   ]
  },
  {
   "cell_type": "code",
   "execution_count": 13,
   "metadata": {},
   "outputs": [],
   "source": [
    "import pandas as pd\n",
    "colleges_df = pd.read_csv('../data/colleges.csv')"
   ]
  },
  {
   "cell_type": "code",
   "execution_count": 14,
   "metadata": {},
   "outputs": [
    {
     "data": {
      "text/plain": [
       "(1773, 8)"
      ]
     },
     "execution_count": 14,
     "metadata": {},
     "output_type": "execute_result"
    }
   ],
   "source": [
    "colleges_df.shape"
   ]
  },
  {
   "cell_type": "markdown",
   "metadata": {},
   "source": [
    "Already we can see that this initial dataframe is very large, but the New York Times has also said that this is not a complete dataset. There are probably more colleges and cases that is not listed here, especially since the pandemic is still going on, so the case numbers are constantly changes. "
   ]
  },
  {
   "cell_type": "code",
   "execution_count": 15,
   "metadata": {},
   "outputs": [
    {
     "data": {
      "text/plain": [
       "array(['Alabama', 'Alaska', 'American Samoa', 'Arizona', 'Arkansas',\n",
       "       'California', 'Colorado', 'Connecticut', 'Delaware', 'Florida',\n",
       "       'Georgia', 'Guam', 'Hawaii', 'Idaho', 'Illinois', 'Indiana',\n",
       "       'Iowa', 'Kansas', 'Kentucky', 'Louisiana', 'Maine',\n",
       "       'Marshall Islands', 'Maryland', 'Massachusetts', 'Michigan',\n",
       "       'Minnesota', 'Mississippi', 'Missouri', 'Montana', 'Nebraska',\n",
       "       'Nevada', 'New Hampshire', 'New Jersey', 'New Mexico', 'New York',\n",
       "       'North Carolina', 'North Dakota', 'Northern Mariana Islands',\n",
       "       'Ohio', 'Oklahoma', 'Oregon', 'Pennsylvania', 'Puerto Rico',\n",
       "       'Rhode Island', 'South Carolina', 'South Dakota', 'Tennessee',\n",
       "       'Texas', 'Utah', 'Vermont', 'Virgin Islands', 'Virginia',\n",
       "       'Washington, D.C.', 'Washington', 'West Virginia', 'Wisconsin',\n",
       "       'Wyoming'], dtype=object)"
      ]
     },
     "execution_count": 15,
     "metadata": {},
     "output_type": "execute_result"
    }
   ],
   "source": [
    "colleges_df['state'].unique()"
   ]
  },
  {
   "cell_type": "markdown",
   "metadata": {
    "slideshow": {
     "slide_type": "slide"
    }
   },
   "source": [
    "If we sort the data by state, we see that U.S. territories have been put in consideration, as well as the 50 states of the U.S."
   ]
  },
  {
   "cell_type": "code",
   "execution_count": 16,
   "metadata": {},
   "outputs": [
    {
     "data": {
      "text/plain": [
       "New York                    155\n",
       "Pennsylvania                117\n",
       "Florida                      96\n",
       "California                   88\n",
       "Texas                        85\n",
       "Ohio                         71\n",
       "Tennessee                    69\n",
       "Minnesota                    63\n",
       "Massachusetts                61\n",
       "Illinois                     52\n",
       "Kentucky                     52\n",
       "North Carolina               52\n",
       "Michigan                     49\n",
       "Washington                   46\n",
       "Indiana                      43\n",
       "Georgia                      42\n",
       "Virginia                     41\n",
       "Missouri                     37\n",
       "Wisconsin                    32\n",
       "Alabama                      32\n",
       "South Carolina               29\n",
       "Iowa                         28\n",
       "Colorado                     27\n",
       "New Jersey                   26\n",
       "Oklahoma                     24\n",
       "Arkansas                     24\n",
       "Kansas                       24\n",
       "Maryland                     22\n",
       "West Virginia                21\n",
       "Louisiana                    21\n",
       "Connecticut                  21\n",
       "Oregon                       18\n",
       "New Hampshire                15\n",
       "Mississippi                  15\n",
       "Maine                        15\n",
       "North Dakota                 14\n",
       "Montana                      13\n",
       "Nebraska                     13\n",
       "New Mexico                   12\n",
       "Vermont                      11\n",
       "South Dakota                 11\n",
       "Utah                         10\n",
       "Hawaii                        9\n",
       "Rhode Island                  9\n",
       "Idaho                         9\n",
       "Arizona                       9\n",
       "Delaware                      8\n",
       "Washington, D.C.              8\n",
       "Nevada                        7\n",
       "Wyoming                       4\n",
       "Puerto Rico                   4\n",
       "Alaska                        4\n",
       "American Samoa                1\n",
       "Northern Mariana Islands      1\n",
       "Virgin Islands                1\n",
       "Guam                          1\n",
       "Marshall Islands              1\n",
       "Name: state, dtype: int64"
      ]
     },
     "execution_count": 16,
     "metadata": {},
     "output_type": "execute_result"
    }
   ],
   "source": [
    "colleges_df['state'].value_counts()"
   ]
  },
  {
   "cell_type": "markdown",
   "metadata": {},
   "source": [
    "It looks like New York and Pennsylvania are the two states with the most colleges, and misc U.S. territories have the least.."
   ]
  },
  {
   "cell_type": "code",
   "execution_count": 17,
   "metadata": {},
   "outputs": [
    {
     "data": {
      "text/plain": [
       "state\n",
       "American Samoa                  0.0\n",
       "Marshall Islands                0.0\n",
       "Northern Mariana Islands        0.0\n",
       "Virgin Islands                  3.0\n",
       "Guam                            9.0\n",
       "Puerto Rico                    11.0\n",
       "Hawaii                         41.0\n",
       "Vermont                        91.0\n",
       "Alaska                        105.0\n",
       "Maine                         120.0\n",
       "New Hampshire                 418.0\n",
       "New Mexico                    465.0\n",
       "Washington, D.C.              529.0\n",
       "Delaware                      646.0\n",
       "South Dakota                  762.0\n",
       "Oregon                        971.0\n",
       "Rhode Island                 1000.0\n",
       "Montana                      1155.0\n",
       "Wyoming                      1213.0\n",
       "West Virginia                1247.0\n",
       "Nevada                       1280.0\n",
       "Massachusetts                1901.0\n",
       "Idaho                        1975.0\n",
       "New Jersey                   2042.0\n",
       "Connecticut                  2171.0\n",
       "Maryland                     2671.0\n",
       "North Dakota                 2889.0\n",
       "Washington                   2896.0\n",
       "Mississippi                  2975.0\n",
       "Nebraska                     3236.0\n",
       "Kansas                       3596.0\n",
       "Minnesota                    3793.0\n",
       "Colorado                     3937.0\n",
       "Oklahoma                     3975.0\n",
       "Louisiana                    4493.0\n",
       "California                   5224.0\n",
       "Arkansas                     5236.0\n",
       "Iowa                         5522.0\n",
       "Arizona                      5690.0\n",
       "Utah                         6239.0\n",
       "Kentucky                     6685.0\n",
       "New York                     7695.0\n",
       "Virginia                     7830.0\n",
       "Tennessee                    7862.0\n",
       "Missouri                     8319.0\n",
       "Michigan                     8733.0\n",
       "Illinois                     9263.0\n",
       "Indiana                      9736.0\n",
       "Alabama                      9858.0\n",
       "South Carolina               9974.0\n",
       "Wisconsin                   10054.0\n",
       "North Carolina              10296.0\n",
       "Pennsylvania                10817.0\n",
       "Georgia                     11406.0\n",
       "Ohio                        12171.0\n",
       "Florida                     13650.0\n",
       "Texas                       20036.0\n",
       "Name: cases, dtype: float64"
      ]
     },
     "execution_count": 17,
     "metadata": {},
     "output_type": "execute_result"
    }
   ],
   "source": [
    "colleges_df.groupby('state')['cases'].sum().sort_values()"
   ]
  },
  {
   "cell_type": "markdown",
   "metadata": {},
   "source": [
    "Surprisingly, even though NY and PA have more colleges, it seem that cases among the college population are highest in Texas and Florida. Texas is the only state so far with college COVID-19 cases over 20,000. "
   ]
  },
  {
   "cell_type": "code",
   "execution_count": 18,
   "metadata": {},
   "outputs": [
    {
     "data": {
      "text/plain": [
       "state\n",
       "Northern Mariana Islands      0.000000\n",
       "Marshall Islands              0.000000\n",
       "American Samoa                0.000000\n",
       "Virgin Islands                3.000000\n",
       "Hawaii                        5.125000\n",
       "Maine                         8.000000\n",
       "Vermont                       8.272727\n",
       "Guam                          9.000000\n",
       "Puerto Rico                  11.000000\n",
       "New Hampshire                27.866667\n",
       "Massachusetts                32.220339\n",
       "Alaska                       35.000000\n",
       "New Mexico                   38.750000\n",
       "New York                     49.645161\n",
       "Oregon                       60.687500\n",
       "West Virginia                62.350000\n",
       "Washington                   62.956522\n",
       "California                   63.707317\n",
       "Minnesota                    64.288136\n",
       "Washington, D.C.             66.125000\n",
       "South Dakota                 76.200000\n",
       "New Jersey                   81.680000\n",
       "Delaware                     92.285714\n",
       "Pennsylvania                 95.725664\n",
       "Connecticut                 103.380952\n",
       "Montana                     105.000000\n",
       "Rhode Island                111.111111\n",
       "Tennessee                   119.121212\n",
       "Maryland                    127.190476\n",
       "Kentucky                    128.557692\n",
       "Colorado                    151.423077\n",
       "Florida                     151.666667\n",
       "Kansas                      156.347826\n",
       "Ohio                        181.656716\n",
       "Michigan                    181.937500\n",
       "Nevada                      182.857143\n",
       "Illinois                    185.260000\n",
       "Oklahoma                    189.285714\n",
       "Virginia                    190.975610\n",
       "Mississippi                 198.333333\n",
       "Iowa                        204.518519\n",
       "North Carolina              205.920000\n",
       "Arkansas                    218.166667\n",
       "Idaho                       219.444444\n",
       "Missouri                    224.837838\n",
       "Louisiana                   236.473684\n",
       "North Dakota                240.750000\n",
       "Texas                       241.397590\n",
       "Nebraska                    248.923077\n",
       "Georgia                     292.461538\n",
       "Indiana                     295.030303\n",
       "Wyoming                     303.250000\n",
       "Wisconsin                   314.187500\n",
       "Alabama                     352.071429\n",
       "South Carolina              356.214286\n",
       "Utah                        623.900000\n",
       "Arizona                     711.250000\n",
       "Name: cases, dtype: float64"
      ]
     },
     "execution_count": 18,
     "metadata": {},
     "output_type": "execute_result"
    }
   ],
   "source": [
    "colleges_df.groupby('state')['cases'].mean().sort_values()"
   ]
  },
  {
   "cell_type": "markdown",
   "metadata": {},
   "source": [
    "When we take the average of cases among colleges within states, we are surprised again as there are new states with really high averages, instead of states we have seen before. So far, UT and AZ have the highest average amount of cases, around 600 and 700. No other state yet has broken 400 average cases among the college population."
   ]
  },
  {
   "cell_type": "code",
   "execution_count": null,
   "metadata": {},
   "outputs": [],
   "source": []
  }
 ],
 "metadata": {
  "kernelspec": {
   "display_name": "Python 3",
   "language": "python",
   "name": "python3"
  },
  "language_info": {
   "codemirror_mode": {
    "name": "ipython",
    "version": 3
   },
   "file_extension": ".py",
   "mimetype": "text/x-python",
   "name": "python",
   "nbconvert_exporter": "python",
   "pygments_lexer": "ipython3",
   "version": "3.7.3"
  }
 },
 "nbformat": 4,
 "nbformat_minor": 2
}
