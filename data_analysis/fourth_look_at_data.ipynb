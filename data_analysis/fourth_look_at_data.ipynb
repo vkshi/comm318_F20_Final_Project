{
 "cells": [
  {
   "cell_type": "markdown",
   "metadata": {},
   "source": [
    "<h1>A Look Into COVID-19 Case Numbers by State</h1>"
   ]
  },
  {
   "cell_type": "code",
   "execution_count": 102,
   "metadata": {},
   "outputs": [],
   "source": [
    "import pandas as pd\n",
    "states_df = pd.read_csv('../data/us_states.csv')\n",
    "us_df = pd.read_csv('../data/us.csv')"
   ]
  },
  {
   "cell_type": "code",
   "execution_count": null,
   "metadata": {},
   "outputs": [],
   "source": []
  },
  {
   "cell_type": "code",
   "execution_count": 103,
   "metadata": {
    "scrolled": true
   },
   "outputs": [
    {
     "data": {
      "text/plain": [
       "(14149, 5)"
      ]
     },
     "execution_count": 103,
     "metadata": {},
     "output_type": "execute_result"
    }
   ],
   "source": [
    "states_df.shape"
   ]
  },
  {
   "cell_type": "code",
   "execution_count": 104,
   "metadata": {},
   "outputs": [
    {
     "data": {
      "text/plain": [
       "array([     1,      2,      3, ...,  32792, 323604,  21881])"
      ]
     },
     "execution_count": 104,
     "metadata": {},
     "output_type": "execute_result"
    }
   ],
   "source": [
    "states_df['cases'].unique()"
   ]
  },
  {
   "cell_type": "code",
   "execution_count": 105,
   "metadata": {},
   "outputs": [
    {
     "data": {
      "text/plain": [
       "2020-10-15    55\n",
       "2020-05-08    55\n",
       "2020-07-07    55\n",
       "2020-04-24    55\n",
       "2020-10-09    55\n",
       "              ..\n",
       "2020-01-25     3\n",
       "2020-01-24     2\n",
       "2020-01-21     1\n",
       "2020-01-22     1\n",
       "2020-01-23     1\n",
       "Name: date, Length: 299, dtype: int64"
      ]
     },
     "execution_count": 105,
     "metadata": {},
     "output_type": "execute_result"
    }
   ],
   "source": [
    "states_df['date'].value_counts()"
   ]
  },
  {
   "cell_type": "code",
   "execution_count": 106,
   "metadata": {},
   "outputs": [
    {
     "data": {
      "text/plain": [
       "date\n",
       "2020-01-21           1\n",
       "2020-01-22           1\n",
       "2020-01-23           1\n",
       "2020-01-24           2\n",
       "2020-01-25           3\n",
       "                ...   \n",
       "2020-11-10    10331156\n",
       "2020-11-11    10474016\n",
       "2020-11-12    10637418\n",
       "2020-11-13    10818614\n",
       "2020-11-14    10977735\n",
       "Name: cases, Length: 299, dtype: int64"
      ]
     },
     "execution_count": 106,
     "metadata": {},
     "output_type": "execute_result"
    }
   ],
   "source": [
    "states_df.groupby('date')['cases'].sum().sort_values()"
   ]
  },
  {
   "cell_type": "markdown",
   "metadata": {},
   "source": [
    "This sums the total of all cases in the states and U.S. territories by date, which should give us the total cases in the U.S. on that date. The number should match with the us_df below."
   ]
  },
  {
   "cell_type": "code",
   "execution_count": 107,
   "metadata": {},
   "outputs": [
    {
     "data": {
      "text/plain": [
       "(299, 3)"
      ]
     },
     "execution_count": 107,
     "metadata": {},
     "output_type": "execute_result"
    }
   ],
   "source": [
    "us_df.shape"
   ]
  },
  {
   "cell_type": "code",
   "execution_count": 108,
   "metadata": {},
   "outputs": [
    {
     "data": {
      "text/plain": [
       "array([       1,        2,        3,        5,        6,        7,\n",
       "              8,       11,       12,       13,       14,       15,\n",
       "             25,       27,       30,       43,       45,       60,\n",
       "             65,       70,       88,      104,      125,      161,\n",
       "            228,      311,      428,      547,      748,     1018,\n",
       "           1263,     1668,     2224,     2898,     3600,     4507,\n",
       "           5906,     8350,    12393,    18012,    24528,    33073,\n",
       "          43505,    53938,    68572,    85570,   102900,   123966,\n",
       "         142486,   163955,   188461,   215391,   245108,   277426,\n",
       "         312525,   338141,   369057,   399394,   431214,   465913,\n",
       "         499386,   531106,   558249,   584018,   610709,   640742,\n",
       "         672355,   703864,   732262,   757596,   784991,   810505,\n",
       "         839336,   873112,   909853,   944261,   970996,   994193,\n",
       "        1018844,  1045399,  1075756,  1109726,  1139200,  1165340,\n",
       "        1187302,  1211011,  1235517,  1263995,  1291643,  1316511,\n",
       "        1336828,  1354449,  1376749,  1397894,  1424856,  1451093,\n",
       "        1474752,  1493766,  1515593,  1536570,  1559640,  1585373,\n",
       "        1609172,  1631440,  1651471,  1670571,  1689467,  1708211,\n",
       "        1730723,  1755271,  1778668,  1799302,  1821199,  1841990,\n",
       "        1861977,  1883593,  1912302,  1934818,  1953434,  1971641,\n",
       "        1990446,  2013298,  2036500,  2061993,  2087327,  2106457,\n",
       "        2126574,  2151459,  2177114,  2205173,  2236009,  2268034,\n",
       "        2294413,  2324879,  2359939,  2396928,  2438101,  2483629,\n",
       "        2525928,  2565436,  2604932,  2653321,  2703296,  2758855,\n",
       "        2816009,  2866015,  2910782,  2958098,  3012182,  3071637,\n",
       "        3131526,  3199753,  3260474,  3318279,  3379846,  3445448,\n",
       "        3513790,  3589477,  3660400,  3722851,  3785126,  3845014,\n",
       "        3910291,  3980030,  4050036,  4123561,  4190337,  4244554,\n",
       "        4303735,  4366851,  4433467,  4502581,  4571669,  4628497,\n",
       "        4679291,  4726775,  4780324,  4834047,  4891561,  4952718,\n",
       "        5007958,  5056438,  5103611,  5156968,  5211246,  5265307,\n",
       "        5324784,  5375527,  5417664,  5455187,  5498420,  5541433,\n",
       "        5587462,  5636491,  5681517,  5713850,  5754254,  5793437,\n",
       "        5838756,  5884366,  5930930,  5975540,  6008970,  6045455,\n",
       "        6089504,  6121948,  6168342,  6220446,  6262700,  6292699,\n",
       "        6317865,  6346806,  6380138,  6418198,  6465766,  6504870,\n",
       "        6538213,  6575100,  6614317,  6653585,  6698895,  6747782,\n",
       "        6789593,  6825949,  6880899,  6918290,  6959841,  7005043,\n",
       "        7059624,  7102321,  7139619,  7176979,  7220676,  7262734,\n",
       "        7309152,  7362732,  7410511,  7445574,  7507956,  7550841,\n",
       "        7603856,  7660231,  7719190,  7770838,  7815621,  7863637,\n",
       "        7917996,  7977889,  8043229,  8113706,  8166467,  8214349,\n",
       "        8279780,  8340387,  8404616,  8479704,  8564812,  8643568,\n",
       "        8703280,  8777723,  8852176,  8934078,  9024844,  9124628,\n",
       "        9208926,  9283162,  9376821,  9469433,  9577346,  9698875,\n",
       "        9831722,  9957654, 10061070, 10191410, 10331156, 10474016,\n",
       "       10637418, 10818614, 10977735])"
      ]
     },
     "execution_count": 108,
     "metadata": {},
     "output_type": "execute_result"
    }
   ],
   "source": [
    "us_df['cases'].unique()"
   ]
  },
  {
   "cell_type": "code",
   "execution_count": 109,
   "metadata": {},
   "outputs": [
    {
     "data": {
      "text/plain": [
       "date\n",
       "2020-01-21           1\n",
       "2020-01-22           1\n",
       "2020-01-23           1\n",
       "2020-01-24           2\n",
       "2020-01-25           3\n",
       "                ...   \n",
       "2020-11-10    10331156\n",
       "2020-11-11    10474016\n",
       "2020-11-12    10637418\n",
       "2020-11-13    10818614\n",
       "2020-11-14    10977735\n",
       "Name: cases, Length: 299, dtype: int64"
      ]
     },
     "execution_count": 109,
     "metadata": {},
     "output_type": "execute_result"
    }
   ],
   "source": [
    "us_df.groupby('date')['cases'].sum().sort_values()"
   ]
  },
  {
   "cell_type": "markdown",
   "metadata": {},
   "source": [
    "The total number of cases presented here seems to match with the numbers in states_df, which is good because both datasets came from the same source. There doesn't seem to be any discrepancies."
   ]
  },
  {
   "cell_type": "code",
   "execution_count": 150,
   "metadata": {},
   "outputs": [
    {
     "name": "stdout",
     "output_type": "stream",
     "text": [
      "['Alabama 215843', 'Alaska 23029', 'Arizona 273400', 'Arkansas 132166', 'California 1027016', 'Colorado 160459', 'Connecticut 88645', 'Delaware 28395', 'District of Columbia 18814', 'Florida 875088', 'Georgia 407596', 'Guam 6893', 'Hawaii 16619', 'Idaho 81625', 'Illinois 564086', 'Indiana 247466', 'Iowa 183557', 'Kansas 117728', 'Kentucky 138854', 'Louisiana 201981', 'Maine 8791', 'Maryland 164239', 'Massachusetts 186142', 'Michigan 275393', 'Minnesota 216084', 'Mississippi 133340', 'Missouri 248195', 'Montana 45919', 'Nebraska 96834', 'Nevada 119228', 'New Hampshire 14311', 'New Jersey 276537', 'New Mexico 63171', 'New York 561308', 'North Carolina 309703', 'North Dakota 62878', 'Northern Mariana Islands 100', 'Ohio 290243', 'Oklahoma 150205', 'Oregon 56018', 'Pennsylvania 264396', 'Puerto Rico 75387', 'Rhode Island 41529', 'South Carolina 194014', 'South Dakota 64182', 'Tennessee 299597', 'Texas 1082625', 'Utah 151141', 'Vermont 2843', 'Virgin Islands 1434', 'Virginia 200799', 'Washington 133612', 'West Virginia 32792', 'Wisconsin 323604', 'Wyoming 21881']\n",
      "['Connecticut 88645', 'Massachusetts 186142', 'New Hampshire 14311', 'New Jersey 276537', 'New York 561308', 'Pennsylvania 264396', 'Rhode Island 41529']\n"
     ]
    }
   ],
   "source": [
    "casesbystate_df = []\n",
    "ivystates_df = []\n",
    "\n",
    "for index, row in states_df.iterrows():\n",
    "    if (states_df['date'][index] == '2020-11-14'):\n",
    "        casesbystate_df.append((states_df['state'][index] + ' ' + str(states_df['cases'][index])))\n",
    "print(casesbystate_df)\n",
    "\n",
    "for x in casesbystate_df:\n",
    "    if 'Pennsylvania' in x or 'Rhode Island' in x or 'New York' in x or 'New Jersey' in x or 'Connecticut' in x or 'Massachusetts' in x or 'New Hampshire' in x:\n",
    "        ivystates_df.append(x)\n",
    "print(ivystates_df)\n"
   ]
  },
  {
   "cell_type": "markdown",
   "metadata": {},
   "source": [
    "For this snippet of code, I'm trying to isolate the number of cases by date per state. For each state, on 2020-11-14, which is the latest date in my data frame, I want the number of cases. Now I want to take this and get the number of cases for each ivy league state. That way I can compare state case numbers to ivy case numbers and state school case numbers.\n",
    "\n"
   ]
  },
  {
   "cell_type": "code",
   "execution_count": null,
   "metadata": {},
   "outputs": [],
   "source": []
  }
 ],
 "metadata": {
  "kernelspec": {
   "display_name": "Python 3",
   "language": "python",
   "name": "python3"
  },
  "language_info": {
   "codemirror_mode": {
    "name": "ipython",
    "version": 3
   },
   "file_extension": ".py",
   "mimetype": "text/x-python",
   "name": "python",
   "nbconvert_exporter": "python",
   "pygments_lexer": "ipython3",
   "version": "3.7.3"
  }
 },
 "nbformat": 4,
 "nbformat_minor": 2
}
