{
 "cells": [
  {
   "cell_type": "markdown",
   "metadata": {
    "slideshow": {
     "slide_type": "slide"
    }
   },
   "source": [
    "<h1>A Look Into College Population for Ivy vs State Schools</h1>"
   ]
  },
  {
   "cell_type": "markdown",
   "metadata": {},
   "source": [
    "<h2>Ivy League</h2>\n",
    "\n",
    "Yale: 16,363\n",
    "https://www.yale.edu/about-yale/yale-facts\n",
    "\n",
    "UPenn: 26,675\n",
    "https://www.upenn.edu/about/facts\n",
    "\n",
    "Columbia: 31,498\n",
    "https://www.columbia.edu/content/statistics-and-facts\n",
    "\n",
    "Cornell: 23,620\n",
    "https://www.cornell.edu/about/facts.cfm\n",
    "\n",
    "Brown: 10,257\n",
    "https://www.brown.edu/about/brown-glance\n",
    "\n",
    "Harvard: 36,012\n",
    "https://www.harvard.edu/about-harvard/harvard-glance\n",
    "\n",
    "Princeton: 8,856\n",
    "https://www.princeton.edu/meet-princeton/facts-figures\n",
    "\n",
    "Dartmouth: 6,571\n",
    "https://home.dartmouth.edu/dartmouth-glance\n",
    "\n",
    "It is hard to find a dataset consisting of all college and university population levels, so I ended up going to each university site to collect the numbers. However, as I was looking through the websites, I notice that some schools still had their data from 2018 and 2019, as well as 2020. I tried to take the latest total of students enrolled provided."
   ]
  },
  {
   "cell_type": "markdown",
   "metadata": {},
   "source": [
    "<h2>State Schools</h2>\n",
    "\n",
    "SUNY: 1,469,329 https://www.suny.edu/about/fast-facts/\n",
    "\n",
    "Penn State: 143,838 https://admissions.psu.edu/apply/statistics/\n",
    "\n",
    "Rutgers: 77,800 https://www.rutgers.edu/about/by-the-numbers *I noticed that on Rutger's website, they broke down the university population by campuses. However, there is only one Rutgers entry on the NYT dataset.\n",
    "\n",
    "UConn: 32,257 https://uconn.edu/content/uploads/2019/01/INS-004-Fact-Sheet-NewDesign-011719-FY19.pdf\n",
    "\n",
    "UMass: 75,065 https://www.massachusetts.edu/about/quick-facts\n",
    "\n",
    "URI: 17,671 https://www.uri.edu/about/facts/\n",
    "\n",
    "UNH: 16,658 https://unh.edu/main/facts-figures *I noticed that on UNH's website, they broke down the university population by campuses. However, there is only one UNH entry on the NYT dataset.\n",
    "\n",
    "Likewise with the ivy student population collection, I couldn't find a cohesive dataset for college population throughout the U.S., so I took totals from university websites. Luckily, universities with a multitude of campuses had already compiled their population throughout their many campuses, which made totaling populations much easier. However, the same issue arose.. many of these universities update their student population info arbitrarily, meaning some already have projected numbers for those graduating in 2024, and some still show population information from 2018.\n"
   ]
  },
  {
   "cell_type": "markdown",
   "metadata": {},
   "source": [
    "<h2>State Population</h2>\n",
    "\n",
    "CT: 3,565,287\n",
    "\n",
    "MA: 6,892,503\n",
    "\n",
    "PA: 12,801,989\n",
    "\n",
    "RI: 1,059,361\n",
    "\n",
    "NH: 1,359,711\n",
    "\n",
    "NJ: 8,882,190\n",
    "\n",
    "NY: 19,453,561\n",
    "\n",
    "These are state populations for July 2019 taken from the U.S. Census\n"
   ]
  },
  {
   "cell_type": "code",
   "execution_count": null,
   "metadata": {},
   "outputs": [],
   "source": []
  }
 ],
 "metadata": {
  "kernelspec": {
   "display_name": "Python 3",
   "language": "python",
   "name": "python3"
  },
  "language_info": {
   "codemirror_mode": {
    "name": "ipython",
    "version": 3
   },
   "file_extension": ".py",
   "mimetype": "text/x-python",
   "name": "python",
   "nbconvert_exporter": "python",
   "pygments_lexer": "ipython3",
   "version": "3.7.3"
  }
 },
 "nbformat": 4,
 "nbformat_minor": 2
}
